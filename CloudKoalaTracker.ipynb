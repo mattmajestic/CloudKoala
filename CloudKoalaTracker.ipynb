{
 "cells": [
  {
   "cell_type": "code",
   "execution_count": null,
   "metadata": {},
   "outputs": [],
   "source": [
    "from azure.identity import DefaultAzureCredential\n",
    "from azure.mgmt.compute import ComputeManagementClient\n",
    "from google.cloud import storage\n",
    "import boto3\n"
   ]
  },
  {
   "cell_type": "markdown",
   "metadata": {},
   "source": [
    "Setup Env & funcs"
   ]
  },
  {
   "cell_type": "code",
   "execution_count": null,
   "metadata": {},
   "outputs": [],
   "source": [
    "# Define VM configurations\n",
    "vm_configurations = [\n",
    "    {\n",
    "        'name': 'Standard_DS2_v2',\n",
    "        'vcpus': 2,\n",
    "        'memory': 7,\n",
    "    },\n",
    "    {\n",
    "        'name': 'n1-standard-2',\n",
    "        'vcpus': 2,\n",
    "        'memory': 7.5,\n",
    "    },\n",
    "    {\n",
    "        'name': 't2.medium',\n",
    "        'vcpus': 2,\n",
    "        'memory': 4,\n",
    "    }\n",
    "]\n",
    "\n",
    "def get_azure_vm_price(vm_config):\n",
    "    credential = DefaultAzureCredential()\n",
    "    compute_client = ComputeManagementClient(credential, \"your_subscription_id\")\n",
    "    \n",
    "    vm_sizes = compute_client.virtual_machine_sizes.list(\"your_region\")\n",
    "    for size in vm_sizes:\n",
    "        if size.name == vm_config['name']:\n",
    "            return size.number_of_cores * size.number_of_cores * 0.01  # Simplified price calculation\n",
    "    \n",
    "    return None\n",
    "\n",
    "def get_gcp_vm_price(vm_config):\n",
    "    storage_client = storage.Client()\n",
    "    skus = storage_client.list_blobs(\"cloud-pricing\", prefix=\"CP-COMPUTEENGINE-VMIMAGE\")\n",
    "    \n",
    "    for sku in skus:\n",
    "        if vm_config['name'] in sku.name:\n",
    "            return float(sku.download_as_text())\n",
    "    \n",
    "    return None\n",
    "\n",
    "def get_aws_vm_price(vm_config):\n",
    "    ec2_client = boto3.client('ec2', region_name='your_region')\n",
    "    \n",
    "    response = ec2_client.describe_instance_type_offerings(\n",
    "        LocationType='availability-zone',\n",
    "        Filters=[\n",
    "            {\n",
    "                'Name': 'instance-type',\n",
    "                'Values': [vm_config['name']]\n",
    "            }\n",
    "        ]\n",
    "    )\n",
    "    \n",
    "    if 'InstanceTypeOfferings' in response:\n",
    "        price = response['InstanceTypeOfferings'][0]['PricingDetails'][0]['Price']\n",
    "        return float(price)\n",
    "    \n",
    "    return None"
   ]
  },
  {
   "cell_type": "markdown",
   "metadata": {},
   "source": [
    "Run the Tracker"
   ]
  },
  {
   "cell_type": "code",
   "execution_count": null,
   "metadata": {},
   "outputs": [],
   "source": [
    "for config in vm_configurations:\n",
    "    azure_price = get_azure_vm_price(config)\n",
    "    gcp_price = get_gcp_vm_price(config)\n",
    "    aws_price = get_aws_vm_price(config)\n",
    "    \n",
    "    if azure_price and gcp_price and aws_price:\n",
    "        print(f\"VM Configuration: {config['name']}\")\n",
    "        print(f\"Azure Price: ${azure_price:.2f}\")\n",
    "        print(f\"GCP Price: ${gcp_price:.2f}\")\n",
    "        print(f\"AWS Price: ${aws_price:.2f}\")\n",
    "        print(\"=\" * 30)\n",
    "    else:\n",
    "        print(f\"Could not retrieve pricing information for {config['name']}\")"
   ]
  }
 ],
 "metadata": {
  "language_info": {
   "name": "python"
  },
  "orig_nbformat": 4
 },
 "nbformat": 4,
 "nbformat_minor": 2
}
